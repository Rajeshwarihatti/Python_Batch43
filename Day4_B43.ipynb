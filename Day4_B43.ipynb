{
 "cells": [
  {
   "cell_type": "code",
   "execution_count": 2,
   "metadata": {},
   "outputs": [
    {
     "name": "stdout",
     "output_type": "stream",
     "text": [
      "['raghu', 'rajeshwari', 'gagan', 'nisha', 'harish']\n"
     ]
    }
   ],
   "source": [
    "#Introduction to list datatype\n",
    "#How do you define list datatype-->uding square brackets []\n",
    "students=['raghu','rajeshwari','gagan','nisha','harish']\n",
    "print(students)"
   ]
  },
  {
   "cell_type": "code",
   "execution_count": 3,
   "metadata": {},
   "outputs": [
    {
     "data": {
      "text/plain": [
       "list"
      ]
     },
     "execution_count": 3,
     "metadata": {},
     "output_type": "execute_result"
    }
   ],
   "source": [
    "type(students)"
   ]
  },
  {
   "cell_type": "code",
   "execution_count": 4,
   "metadata": {},
   "outputs": [
    {
     "name": "stdout",
     "output_type": "stream",
     "text": [
      "rajeshwari\n"
     ]
    }
   ],
   "source": [
    "#How to access the values from the abobe list..?\n",
    "#Introduction to indexing:0.1.2.....\n",
    "#requiremen 1:We want to get rajeshwari name in op-->according to above student list rajeshwari's index numberis 1 so we have to do as below to achieve our requirement\n",
    "print(students[1])\n"
   ]
  },
  {
   "cell_type": "code",
   "execution_count": 5,
   "metadata": {},
   "outputs": [
    {
     "name": "stdout",
     "output_type": "stream",
     "text": [
      "gagan\n"
     ]
    }
   ],
   "source": [
    "#requirement 2:We want to get gagan name in op\n",
    "print(students[2])"
   ]
  },
  {
   "cell_type": "code",
   "execution_count": 30,
   "metadata": {},
   "outputs": [
    {
     "name": "stdout",
     "output_type": "stream",
     "text": [
      "['raghu', 'rani', 'suresh', 'kiran', 'kiran']\n"
     ]
    }
   ],
   "source": [
    "#How to add new elements to list\n",
    "#requiement 1 :We want to add name kiran to existingstudent lis ['raghu', 'rajeshwari', 'gagan', 'nisha', 'harish']\n",
    "students.append('kiran') #append() method is used to add new elements to list and it will add elements to end of list\n",
    "print(students)"
   ]
  },
  {
   "cell_type": "code",
   "execution_count": null,
   "metadata": {},
   "outputs": [],
   "source": [
    "#requirement 2: we want to add sunitha to above list"
   ]
  },
  {
   "cell_type": "code",
   "execution_count": 9,
   "metadata": {},
   "outputs": [
    {
     "name": "stdout",
     "output_type": "stream",
     "text": [
      "['raghu', 'rajeshwari', 'gagan', 'nisha', 'harish', 'kiran', 'kiran', 'sunitha']\n"
     ]
    }
   ],
   "source": [
    "students.append('sunitha')\n",
    "print(students)"
   ]
  },
  {
   "cell_type": "code",
   "execution_count": null,
   "metadata": {},
   "outputs": [],
   "source": [
    "#requiremet 3:we want to add suresh at 2nd index"
   ]
  },
  {
   "cell_type": "code",
   "execution_count": 10,
   "metadata": {},
   "outputs": [
    {
     "name": "stdout",
     "output_type": "stream",
     "text": [
      "['raghu', 'rajeshwari', 'suresh', 'gagan', 'nisha', 'harish', 'kiran', 'kiran', 'sunitha']\n"
     ]
    }
   ],
   "source": [
    "students.insert(2,'suresh') #insert() method is used to add element to perticular index\n",
    "print(students)"
   ]
  },
  {
   "cell_type": "code",
   "execution_count": null,
   "metadata": {},
   "outputs": [],
   "source": [
    "#How to modify the elements in list\n",
    "#requiremt:we want to replace rajeshwwari with rani\n",
    "#action:from above list rajeshwari's index number is 1,so we have to replace index 1 with rani"
   ]
  },
  {
   "cell_type": "code",
   "execution_count": 11,
   "metadata": {},
   "outputs": [
    {
     "name": "stdout",
     "output_type": "stream",
     "text": [
      "['raghu', 'rani', 'suresh', 'gagan', 'nisha', 'harish', 'kiran', 'kiran', 'sunitha']\n"
     ]
    }
   ],
   "source": [
    "students[1]='rani'\n",
    "print(students)"
   ]
  },
  {
   "cell_type": "code",
   "execution_count": null,
   "metadata": {},
   "outputs": [],
   "source": [
    "#How to delete elements from the list\n",
    "#requiremet:I want to delete harish name from above list"
   ]
  },
  {
   "cell_type": "code",
   "execution_count": 12,
   "metadata": {},
   "outputs": [
    {
     "name": "stdout",
     "output_type": "stream",
     "text": [
      "['raghu', 'rani', 'suresh', 'gagan', 'nisha', 'kiran', 'kiran', 'sunitha']\n"
     ]
    }
   ],
   "source": [
    "del students[5] #permanent approach\n",
    "print(students)"
   ]
  },
  {
   "cell_type": "code",
   "execution_count": null,
   "metadata": {},
   "outputs": [],
   "source": [
    "#temporary approach-->pop() method"
   ]
  },
  {
   "cell_type": "code",
   "execution_count": 13,
   "metadata": {},
   "outputs": [
    {
     "name": "stdout",
     "output_type": "stream",
     "text": [
      "['raghu', 'rani', 'suresh', 'gagan', 'nisha', 'kiran', 'kiran', 'sunitha']\n"
     ]
    }
   ],
   "source": [
    "print(students)"
   ]
  },
  {
   "cell_type": "code",
   "execution_count": 16,
   "metadata": {},
   "outputs": [],
   "source": [
    "x = students.pop ()"
   ]
  },
  {
   "cell_type": "code",
   "execution_count": 17,
   "metadata": {},
   "outputs": [
    {
     "name": "stdout",
     "output_type": "stream",
     "text": [
      "['raghu', 'rani', 'suresh', 'gagan', 'nisha', 'kiran', 'kiran']\n"
     ]
    }
   ],
   "source": [
    "print(students)"
   ]
  },
  {
   "cell_type": "code",
   "execution_count": 18,
   "metadata": {},
   "outputs": [
    {
     "name": "stdout",
     "output_type": "stream",
     "text": [
      "sunitha\n"
     ]
    }
   ],
   "source": [
    "print(x)"
   ]
  },
  {
   "cell_type": "code",
   "execution_count": null,
   "metadata": {},
   "outputs": [],
   "source": [
    "#requirement:want to delete gagan temporarly from the list"
   ]
  },
  {
   "cell_type": "code",
   "execution_count": 24,
   "metadata": {},
   "outputs": [
    {
     "name": "stdout",
     "output_type": "stream",
     "text": [
      "['raghu', 'rani', 'suresh', 'gagan', 'nisha', 'kiran', 'kiran']\n"
     ]
    }
   ],
   "source": [
    "print(students)"
   ]
  },
  {
   "cell_type": "code",
   "execution_count": 28,
   "metadata": {},
   "outputs": [],
   "source": [
    "y=students.pop (3)"
   ]
  },
  {
   "cell_type": "code",
   "execution_count": 29,
   "metadata": {},
   "outputs": [
    {
     "name": "stdout",
     "output_type": "stream",
     "text": [
      "['raghu', 'rani', 'suresh', 'kiran']\n"
     ]
    }
   ],
   "source": [
    "print(students)"
   ]
  },
  {
   "cell_type": "code",
   "execution_count": null,
   "metadata": {},
   "outputs": [],
   "source": []
  }
 ],
 "metadata": {
  "kernelspec": {
   "display_name": "Python 3",
   "language": "python",
   "name": "python3"
  },
  "language_info": {
   "codemirror_mode": {
    "name": "ipython",
    "version": 3
   },
   "file_extension": ".py",
   "mimetype": "text/x-python",
   "name": "python",
   "nbconvert_exporter": "python",
   "pygments_lexer": "ipython3",
   "version": "3.8.5"
  }
 },
 "nbformat": 4,
 "nbformat_minor": 4
}
