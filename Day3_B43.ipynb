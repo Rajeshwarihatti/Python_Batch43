{
 "cells": [
  {
   "cell_type": "code",
   "execution_count": 1,
   "metadata": {},
   "outputs": [
    {
     "name": "stdout",
     "output_type": "stream",
     "text": [
      "rajeshwari hatti\n"
     ]
    }
   ],
   "source": [
    "#continuation with string methods\n",
    "#1.title() 2.upper(),3.lower()\n",
    "fullname='rajeshwari hatti'\n",
    "print(fullname)"
   ]
  },
  {
   "cell_type": "code",
   "execution_count": 2,
   "metadata": {},
   "outputs": [
    {
     "name": "stdout",
     "output_type": "stream",
     "text": [
      "Rajeshwari Hatti\n"
     ]
    }
   ],
   "source": [
    "#requirement:how to correct the above o/p format\n",
    "print(fullname.title())  #title() method will be using to correct the o/p format"
   ]
  },
  {
   "cell_type": "code",
   "execution_count": 4,
   "metadata": {},
   "outputs": [
    {
     "name": "stdout",
     "output_type": "stream",
     "text": [
      "RAJESHWARI HATTI\n"
     ]
    }
   ],
   "source": [
    "#requirement:We want print the fullnaame in captialletters\n",
    "print(fullname.upper())  #upper() method will be using to print the o/p in capital letters"
   ]
  },
  {
   "cell_type": "code",
   "execution_count": 5,
   "metadata": {},
   "outputs": [
    {
     "name": "stdout",
     "output_type": "stream",
     "text": [
      "rajeshwari hatti\n"
     ]
    }
   ],
   "source": [
    "#requirement:We want to print the fullname in small letters\n",
    "print(fullname.lower()) #lower() method will be using to print the o/p in small letters"
   ]
  },
  {
   "cell_type": "code",
   "execution_count": 7,
   "metadata": {},
   "outputs": [
    {
     "name": "stdout",
     "output_type": "stream",
     "text": [
      "rajeshwari hatti\n"
     ]
    }
   ],
   "source": [
    "#Introduction to f strings(string concatenation)\n",
    "#General syntax of f string:f\"custom words{placeholder1} {placeholder2}------{placeholdern}\n",
    "firstname='rajeshwari'\n",
    "lastname='hatti'\n",
    "#requirement:we want to have both fistname and last name(fullname) in o/p\n",
    "fullname=f\"{firstname} {lastname}\"\n",
    "print(fullname)"
   ]
  },
  {
   "cell_type": "code",
   "execution_count": 9,
   "metadata": {},
   "outputs": [
    {
     "name": "stdout",
     "output_type": "stream",
     "text": [
      "Rajeshwari Hatti\n"
     ]
    }
   ],
   "source": [
    "#enhancemen of the code-->printing o/p in correct format using string methods\n",
    "print(fullname.title())"
   ]
  },
  {
   "cell_type": "code",
   "execution_count": 17,
   "metadata": {},
   "outputs": [
    {
     "name": "stdout",
     "output_type": "stream",
     "text": [
      "Keep up the good work,Rajeshwari Hatti\n"
     ]
    }
   ],
   "source": [
    "#enhancing the code by uisng custom words\n",
    "message=f\"Keep up the good work,{fullname.title()}\"\n",
    "print(message)"
   ]
  },
  {
   "cell_type": "code",
   "execution_count": 18,
   "metadata": {},
   "outputs": [
    {
     "name": "stdout",
     "output_type": "stream",
     "text": [
      "students favourite_programming languages:pythonc++java\n"
     ]
    }
   ],
   "source": [
    "#Adding white space to string\n",
    "#requirement:survey among group of students to choose their favourite programming language\n",
    "print(\"students favourite_programming languages:pythonc++java\")"
   ]
  },
  {
   "cell_type": "code",
   "execution_count": 19,
   "metadata": {},
   "outputs": [
    {
     "name": "stdout",
     "output_type": "stream",
     "text": [
      "students favourite_programming languages:\n",
      "python\n",
      "c++\n",
      "java\n"
     ]
    }
   ],
   "source": [
    "#enhancement of code of line18\n",
    "print(\"students favourite_programming languages:\\npython\\nc++\\njava\") #\\n delimiter:it will print the every string in newline"
   ]
  },
  {
   "cell_type": "code",
   "execution_count": 20,
   "metadata": {},
   "outputs": [
    {
     "name": "stdout",
     "output_type": "stream",
     "text": [
      "students favourite_programming languages:\n",
      "\tpython\n",
      "\tc++\n",
      "\tjava\n"
     ]
    }
   ],
   "source": [
    "print(\"students favourite_programming languages:\\n\\tpython\\n\\tc++\\n\\tjava\") #\\t delimeter\"it ill print the string bygiving 1 tab of space"
   ]
  },
  {
   "cell_type": "code",
   "execution_count": 23,
   "metadata": {},
   "outputs": [
    {
     "name": "stdout",
     "output_type": "stream",
     "text": [
      "rajeshwari\n"
     ]
    }
   ],
   "source": [
    "#Removing of white spaces\n",
    "#impatc of white space:It will consume additional storage and it will hamper the code as well\n",
    "#scenario 1:removing white space in left side of string-->lstrip() method\n",
    "name=' rajeshwari'\n",
    "print(name.lstrip())"
   ]
  },
  {
   "cell_type": "code",
   "execution_count": 24,
   "metadata": {},
   "outputs": [
    {
     "name": "stdout",
     "output_type": "stream",
     "text": [
      "rajeshwari\n"
     ]
    }
   ],
   "source": [
    "#scenario 2:removing white space in rigt side of string--->rstrip() method\n",
    "name='rajeshwari  '\n",
    "print(name.rstrip())"
   ]
  },
  {
   "cell_type": "code",
   "execution_count": 25,
   "metadata": {},
   "outputs": [
    {
     "name": "stdout",
     "output_type": "stream",
     "text": [
      "rajeshwari\n"
     ]
    }
   ],
   "source": [
    "#scenario 3:removing white space on both the sides of string---->strip() method--->searching operation\n",
    "name='  rajeshwari  '\n",
    "print(name.strip())"
   ]
  },
  {
   "cell_type": "code",
   "execution_count": null,
   "metadata": {},
   "outputs": [],
   "source": []
  }
 ],
 "metadata": {
  "kernelspec": {
   "display_name": "Python 3",
   "language": "python",
   "name": "python3"
  },
  "language_info": {
   "codemirror_mode": {
    "name": "ipython",
    "version": 3
   },
   "file_extension": ".py",
   "mimetype": "text/x-python",
   "name": "python",
   "nbconvert_exporter": "python",
   "pygments_lexer": "ipython3",
   "version": "3.8.5"
  }
 },
 "nbformat": 4,
 "nbformat_minor": 4
}
