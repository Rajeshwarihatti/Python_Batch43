{
 "cells": [
  {
   "cell_type": "code",
   "execution_count": null,
   "metadata": {},
   "outputs": [],
   "source": [
    "#Continuation with lists:"
   ]
  },
  {
   "cell_type": "code",
   "execution_count": 1,
   "metadata": {},
   "outputs": [],
   "source": [
    "students=['shiva','mujeeb','rishika','priyanka','naveen','kiran']"
   ]
  },
  {
   "cell_type": "code",
   "execution_count": 2,
   "metadata": {},
   "outputs": [
    {
     "name": "stdout",
     "output_type": "stream",
     "text": [
      "['shiva', 'mujeeb', 'rishika', 'priyanka', 'naveen', 'kiran']\n"
     ]
    }
   ],
   "source": [
    "print(students)"
   ]
  },
  {
   "cell_type": "code",
   "execution_count": 3,
   "metadata": {},
   "outputs": [
    {
     "data": {
      "text/plain": [
       "list"
      ]
     },
     "execution_count": 3,
     "metadata": {},
     "output_type": "execute_result"
    }
   ],
   "source": [
    "type(students)"
   ]
  },
  {
   "cell_type": "code",
   "execution_count": null,
   "metadata": {},
   "outputs": [],
   "source": [
    "#req:I want to appreciate all the students for sending the practice files regularly"
   ]
  },
  {
   "cell_type": "code",
   "execution_count": 7,
   "metadata": {},
   "outputs": [
    {
     "name": "stdout",
     "output_type": "stream",
     "text": [
      "keep up the good work,Shiva\n"
     ]
    }
   ],
   "source": [
    "print(f\"keep up the good work,{students[0].title()}\")"
   ]
  },
  {
   "cell_type": "code",
   "execution_count": null,
   "metadata": {},
   "outputs": [],
   "source": [
    "#Introduction to for loops in python:"
   ]
  },
  {
   "cell_type": "code",
   "execution_count": null,
   "metadata": {},
   "outputs": [],
   "source": [
    "#req:I want to appreciate all the students for sending the practice files regularly"
   ]
  },
  {
   "cell_type": "code",
   "execution_count": 11,
   "metadata": {},
   "outputs": [
    {
     "name": "stdout",
     "output_type": "stream",
     "text": [
      "['shiva', 'mujeeb', 'rishika', 'priyanka', 'naveen', 'kiran']\n"
     ]
    }
   ],
   "source": [
    "print(students)"
   ]
  },
  {
   "cell_type": "code",
   "execution_count": 24,
   "metadata": {},
   "outputs": [
    {
     "name": "stdout",
     "output_type": "stream",
     "text": [
      "keep up the good work,Shiva\n",
      "keep up the good work,Mujeeb\n",
      "keep up the good work,Rishika\n",
      "keep up the good work,Priyanka\n",
      "keep up the good work,Naveen\n",
      "keep up the good work,Kiran\n"
     ]
    }
   ],
   "source": [
    "for x in students:\n",
    "    print(f\"keep up the good work,{x.title()}\")"
   ]
  },
  {
   "cell_type": "code",
   "execution_count": 26,
   "metadata": {},
   "outputs": [
    {
     "name": "stdout",
     "output_type": "stream",
     "text": [
      "keep up the good work,Shiva\n",
      "keep up the good work,Mujeeb\n",
      "keep up the good work,Rishika\n",
      "keep up the good work,Priyanka\n",
      "keep up the good work,Naveen\n",
      "keep up the good work,Kiran\n"
     ]
    }
   ],
   "source": [
    "for ironman in students:\n",
    "    print(f\"keep up the good work,{ironman.title()}\") # writing inthe loop"
   ]
  },
  {
   "cell_type": "code",
   "execution_count": null,
   "metadata": {},
   "outputs": [],
   "source": [
    "#req:I also want to convey message:I will be looking forward to receive your practices as well"
   ]
  },
  {
   "cell_type": "code",
   "execution_count": 27,
   "metadata": {},
   "outputs": [
    {
     "name": "stdout",
     "output_type": "stream",
     "text": [
      "keep up the good work,Shiva\n",
      "I will be looking forward to receive your practices as well,Shiva\n",
      "keep up the good work,Mujeeb\n",
      "I will be looking forward to receive your practices as well,Mujeeb\n",
      "keep up the good work,Rishika\n",
      "I will be looking forward to receive your practices as well,Rishika\n",
      "keep up the good work,Priyanka\n",
      "I will be looking forward to receive your practices as well,Priyanka\n",
      "keep up the good work,Naveen\n",
      "I will be looking forward to receive your practices as well,Naveen\n",
      "keep up the good work,Kiran\n",
      "I will be looking forward to receive your practices as well,Kiran\n"
     ]
    }
   ],
   "source": [
    "for x in students:\n",
    "    print(f\"keep up the good work,{x.title()}\")\n",
    "    print(f\"I will be looking forward to receive your practices as well,{x.title()}\")"
   ]
  },
  {
   "cell_type": "code",
   "execution_count": null,
   "metadata": {},
   "outputs": [],
   "source": [
    "#enhancement to above code:"
   ]
  },
  {
   "cell_type": "code",
   "execution_count": 28,
   "metadata": {},
   "outputs": [
    {
     "name": "stdout",
     "output_type": "stream",
     "text": [
      "keep up the good work,Shiva\n",
      "I will be looking forward to receive your practices as well,Shiva.\n",
      "\n",
      "keep up the good work,Mujeeb\n",
      "I will be looking forward to receive your practices as well,Mujeeb.\n",
      "\n",
      "keep up the good work,Rishika\n",
      "I will be looking forward to receive your practices as well,Rishika.\n",
      "\n",
      "keep up the good work,Priyanka\n",
      "I will be looking forward to receive your practices as well,Priyanka.\n",
      "\n",
      "keep up the good work,Naveen\n",
      "I will be looking forward to receive your practices as well,Naveen.\n",
      "\n",
      "keep up the good work,Kiran\n",
      "I will be looking forward to receive your practices as well,Kiran.\n",
      "\n"
     ]
    }
   ],
   "source": [
    "for x in students:\n",
    "    print(f\"keep up the good work,{x.title()}\")\n",
    "    print(f\"I will be looking forward to receive your practices as well,{x.title()}.\\n\")"
   ]
  },
  {
   "cell_type": "code",
   "execution_count": null,
   "metadata": {},
   "outputs": [],
   "source": [
    "#req:Asa whole group I want to convey the message"
   ]
  },
  {
   "cell_type": "code",
   "execution_count": null,
   "metadata": {},
   "outputs": [],
   "source": [
    "#writing out of loop"
   ]
  },
  {
   "cell_type": "code",
   "execution_count": 31,
   "metadata": {},
   "outputs": [
    {
     "name": "stdout",
     "output_type": "stream",
     "text": [
      "keep up the good work,Shiva\n",
      "I will be looking forward to receive your practices as well,Shiva.\n",
      "\n",
      "keep up the good work,Mujeeb\n",
      "I will be looking forward to receive your practices as well,Mujeeb.\n",
      "\n",
      "keep up the good work,Rishika\n",
      "I will be looking forward to receive your practices as well,Rishika.\n",
      "\n",
      "keep up the good work,Priyanka\n",
      "I will be looking forward to receive your practices as well,Priyanka.\n",
      "\n",
      "keep up the good work,Naveen\n",
      "I will be looking forward to receive your practices as well,Naveen.\n",
      "\n",
      "keep up the good work,Kiran\n",
      "I will be looking forward to receive your practices as well,Kiran.\n",
      "\n",
      "Thank you all for showing interest to learning python\n"
     ]
    }
   ],
   "source": [
    "for x in students:\n",
    "    print(f\"keep up the good work,{x.title()}\")\n",
    "    print(f\"I will be looking forward to receive your practices as well,{x.title()}.\\n\")\n",
    "print(\"Thank you all for showing interest to learning python\") #writing out of loop"
   ]
  },
  {
   "cell_type": "code",
   "execution_count": null,
   "metadata": {},
   "outputs": [],
   "source": []
  },
  {
   "cell_type": "code",
   "execution_count": null,
   "metadata": {},
   "outputs": [],
   "source": []
  },
  {
   "cell_type": "code",
   "execution_count": null,
   "metadata": {},
   "outputs": [],
   "source": []
  },
  {
   "cell_type": "code",
   "execution_count": null,
   "metadata": {},
   "outputs": [],
   "source": []
  },
  {
   "cell_type": "code",
   "execution_count": null,
   "metadata": {},
   "outputs": [],
   "source": []
  },
  {
   "cell_type": "code",
   "execution_count": null,
   "metadata": {},
   "outputs": [],
   "source": []
  },
  {
   "cell_type": "code",
   "execution_count": null,
   "metadata": {},
   "outputs": [],
   "source": []
  },
  {
   "cell_type": "code",
   "execution_count": null,
   "metadata": {},
   "outputs": [],
   "source": []
  }
 ],
 "metadata": {
  "kernelspec": {
   "display_name": "Python 3",
   "language": "python",
   "name": "python3"
  },
  "language_info": {
   "codemirror_mode": {
    "name": "ipython",
    "version": 3
   },
   "file_extension": ".py",
   "mimetype": "text/x-python",
   "name": "python",
   "nbconvert_exporter": "python",
   "pygments_lexer": "ipython3",
   "version": "3.8.5"
  }
 },
 "nbformat": 4,
 "nbformat_minor": 4
}
